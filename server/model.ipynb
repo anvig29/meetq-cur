{
 "cells": [
  {
   "cell_type": "code",
   "execution_count": 4,
   "id": "ff96df6a-4dfd-46eb-9432-24840cc47de6",
   "metadata": {},
   "outputs": [
    {
     "name": "stdout",
     "output_type": "stream",
     "text": [
      "Found 2769 files belonging to 2 classes.\n",
      "Downloading data from https://storage.googleapis.com/tensorflow/keras-applications/mobilenet_v2/mobilenet_v2_weights_tf_dim_ordering_tf_kernels_1.0_128_no_top.h5\n",
      "\u001b[1m9406464/9406464\u001b[0m \u001b[32m━━━━━━━━━━━━━━━━━━━━\u001b[0m\u001b[37m\u001b[0m \u001b[1m1s\u001b[0m 0us/step\n",
      "Epoch 1/5\n",
      "\u001b[1m87/87\u001b[0m \u001b[32m━━━━━━━━━━━━━━━━━━━━\u001b[0m\u001b[37m\u001b[0m \u001b[1m62s\u001b[0m 676ms/step - accuracy: 0.7245 - loss: 0.5909\n",
      "Epoch 2/5\n",
      "\u001b[1m87/87\u001b[0m \u001b[32m━━━━━━━━━━━━━━━━━━━━\u001b[0m\u001b[37m\u001b[0m \u001b[1m36s\u001b[0m 398ms/step - accuracy: 0.7577 - loss: 0.5020 \n",
      "Epoch 3/5\n",
      "\u001b[1m87/87\u001b[0m \u001b[32m━━━━━━━━━━━━━━━━━━━━\u001b[0m\u001b[37m\u001b[0m \u001b[1m25s\u001b[0m 283ms/step - accuracy: 0.7900 - loss: 0.4666\n",
      "Epoch 4/5\n",
      "\u001b[1m87/87\u001b[0m \u001b[32m━━━━━━━━━━━━━━━━━━━━\u001b[0m\u001b[37m\u001b[0m \u001b[1m30s\u001b[0m 350ms/step - accuracy: 0.7871 - loss: 0.4535\n",
      "Epoch 5/5\n",
      "\u001b[1m87/87\u001b[0m \u001b[32m━━━━━━━━━━━━━━━━━━━━\u001b[0m\u001b[37m\u001b[0m \u001b[1m25s\u001b[0m 282ms/step - accuracy: 0.8097 - loss: 0.4355\n"
     ]
    },
    {
     "name": "stderr",
     "output_type": "stream",
     "text": [
      "WARNING:absl:You are saving your model as an HDF5 file via `model.save()` or `keras.saving.save_model(model)`. This file format is considered legacy. We recommend using instead the native Keras format, e.g. `model.save('my_model.keras')` or `keras.saving.save_model(model, 'my_model.keras')`. \n"
     ]
    }
   ],
   "source": [
    "import tensorflow as tf\n",
    "from tensorflow.keras.preprocessing import image_dataset_from_directory\n",
    "\n",
    "# Define dataset path\n",
    "dataset_path = \"/Users/anvi/Desktop/report-ml/ml/open_nsfw\"  # Path to your dataset\n",
    "\n",
    "# Load the dataset\n",
    "train_dataset = image_dataset_from_directory(\n",
    "    dataset_path,\n",
    "    image_size=(128, 128),  # Resize to match model input\n",
    "    batch_size=32,\n",
    "    label_mode=\"binary\"  # NSFW = 1, Safe = 0\n",
    ")\n",
    "\n",
    "# Build a simple model using MobileNetV2 as a base\n",
    "base_model = tf.keras.applications.MobileNetV2(\n",
    "    input_shape=(128, 128, 3), include_top=False, weights=\"imagenet\"\n",
    ")\n",
    "base_model.trainable = False  # Freeze base model\n",
    "\n",
    "# Add a classifier head\n",
    "model = tf.keras.Sequential([\n",
    "    base_model,\n",
    "    tf.keras.layers.GlobalAveragePooling2D(),\n",
    "    tf.keras.layers.Dense(1, activation=\"sigmoid\")  # Binary classification\n",
    "])\n",
    "\n",
    "# Compile the model\n",
    "model.compile(optimizer=\"adam\", loss=\"binary_crossentropy\", metrics=[\"accuracy\"])\n",
    "\n",
    "# Train the model\n",
    "model.fit(train_dataset, epochs=5)  # Adjust epochs as needed\n",
    "\n",
    "# Save the trained model\n",
    "model.save(\"model.h5\")\n"
   ]
  },
  {
   "cell_type": "code",
   "execution_count": null,
   "id": "5df36cae-31dc-4f35-8845-18cd66416672",
   "metadata": {},
   "outputs": [],
   "source": []
  }
 ],
 "metadata": {
  "kernelspec": {
   "display_name": "Python 3 (ipykernel)",
   "language": "python",
   "name": "python3"
  },
  "language_info": {
   "codemirror_mode": {
    "name": "ipython",
    "version": 3
   },
   "file_extension": ".py",
   "mimetype": "text/x-python",
   "name": "python",
   "nbconvert_exporter": "python",
   "pygments_lexer": "ipython3",
   "version": "3.11.11"
  }
 },
 "nbformat": 4,
 "nbformat_minor": 5
}
